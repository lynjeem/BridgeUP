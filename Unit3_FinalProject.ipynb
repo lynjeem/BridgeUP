{
 "cells": [
  {
   "cell_type": "code",
   "execution_count": 3,
   "metadata": {},
   "outputs": [],
   "source": [
    "#import your libraries\n",
    "import matplotlib.pyplot as plt\n",
    "import numpy as np\n",
    "import pandas as pd "
   ]
  },
  {
   "cell_type": "code",
   "execution_count": 4,
   "metadata": {
    "scrolled": true
   },
   "outputs": [
    {
     "data": {
      "text/html": [
       "<div>\n",
       "<style scoped>\n",
       "    .dataframe tbody tr th:only-of-type {\n",
       "        vertical-align: middle;\n",
       "    }\n",
       "\n",
       "    .dataframe tbody tr th {\n",
       "        vertical-align: top;\n",
       "    }\n",
       "\n",
       "    .dataframe thead th {\n",
       "        text-align: right;\n",
       "    }\n",
       "</style>\n",
       "<table border=\"1\" class=\"dataframe\">\n",
       "  <thead>\n",
       "    <tr style=\"text-align: right;\">\n",
       "      <th></th>\n",
       "      <th>column 1</th>\n",
       "      <th>column 2</th>\n",
       "    </tr>\n",
       "  </thead>\n",
       "  <tbody>\n",
       "    <tr>\n",
       "      <th>0</th>\n",
       "      <td>20</td>\n",
       "      <td>0</td>\n",
       "    </tr>\n",
       "    <tr>\n",
       "      <th>1</th>\n",
       "      <td>50</td>\n",
       "      <td>1</td>\n",
       "    </tr>\n",
       "    <tr>\n",
       "      <th>2</th>\n",
       "      <td>15</td>\n",
       "      <td>1</td>\n",
       "    </tr>\n",
       "    <tr>\n",
       "      <th>3</th>\n",
       "      <td>50</td>\n",
       "      <td>1</td>\n",
       "    </tr>\n",
       "    <tr>\n",
       "      <th>4</th>\n",
       "      <td>65</td>\n",
       "      <td>0</td>\n",
       "    </tr>\n",
       "    <tr>\n",
       "      <th>5</th>\n",
       "      <td>50</td>\n",
       "      <td>0</td>\n",
       "    </tr>\n",
       "    <tr>\n",
       "      <th>6</th>\n",
       "      <td>10</td>\n",
       "      <td>1</td>\n",
       "    </tr>\n",
       "  </tbody>\n",
       "</table>\n",
       "</div>"
      ],
      "text/plain": [
       "   column 1  column 2\n",
       "0        20         0\n",
       "1        50         1\n",
       "2        15         1\n",
       "3        50         1\n",
       "4        65         0\n",
       "5        50         0\n",
       "6        10         1"
      ]
     },
     "execution_count": 4,
     "metadata": {},
     "output_type": "execute_result"
    }
   ],
   "source": [
    "#creat a simple dataframe\n",
    "sample_df = pd.DataFrame({\"column 1\": [20,50,15,50,65,50,10], \"column 2\": [0,1,1,1,0,0,1]})\n",
    "sample_df"
   ]
  },
  {
   "cell_type": "code",
   "execution_count": 5,
   "metadata": {},
   "outputs": [],
   "source": [
    "zero_vals = sample_df[\"column 1\"].loc[sample_df[\"column 2\"] == 0]"
   ]
  },
  {
   "cell_type": "code",
   "execution_count": 6,
   "metadata": {},
   "outputs": [
    {
     "name": "stdout",
     "output_type": "stream",
     "text": [
      "0    20\n",
      "4    65\n",
      "5    50\n",
      "Name: column 1, dtype: int64\n"
     ]
    }
   ],
   "source": [
    "print(zero_vals)"
   ]
  },
  {
   "cell_type": "code",
   "execution_count": 7,
   "metadata": {},
   "outputs": [],
   "source": [
    "one_vals = sample_df[\"column 1\"].loc[sample_df[\"column 2\"] == 1]"
   ]
  },
  {
   "cell_type": "code",
   "execution_count": 8,
   "metadata": {},
   "outputs": [
    {
     "name": "stdout",
     "output_type": "stream",
     "text": [
      "1    50\n",
      "2    15\n",
      "3    50\n",
      "6    10\n",
      "Name: column 1, dtype: int64\n"
     ]
    }
   ],
   "source": [
    "print(one_vals)"
   ]
  },
  {
   "cell_type": "code",
   "execution_count": 9,
   "metadata": {},
   "outputs": [],
   "source": [
    "fifty_vals = sample_df[\"column 2\"].loc[sample_df[\"column 1\"] == 50]"
   ]
  },
  {
   "cell_type": "code",
   "execution_count": 10,
   "metadata": {},
   "outputs": [
    {
     "name": "stdout",
     "output_type": "stream",
     "text": [
      "1    1\n",
      "3    1\n",
      "5    0\n",
      "Name: column 2, dtype: int64\n"
     ]
    }
   ],
   "source": [
    "print(fifty_vals)"
   ]
  },
  {
   "cell_type": "code",
   "execution_count": 11,
   "metadata": {},
   "outputs": [
    {
     "data": {
      "text/html": [
       "<div>\n",
       "<style scoped>\n",
       "    .dataframe tbody tr th:only-of-type {\n",
       "        vertical-align: middle;\n",
       "    }\n",
       "\n",
       "    .dataframe tbody tr th {\n",
       "        vertical-align: top;\n",
       "    }\n",
       "\n",
       "    .dataframe thead th {\n",
       "        text-align: right;\n",
       "    }\n",
       "</style>\n",
       "<table border=\"1\" class=\"dataframe\">\n",
       "  <thead>\n",
       "    <tr style=\"text-align: right;\">\n",
       "      <th></th>\n",
       "      <th>row_id</th>\n",
       "      <th>tgas_source_id</th>\n",
       "      <th>name</th>\n",
       "      <th>ra</th>\n",
       "      <th>dec</th>\n",
       "      <th>parallax</th>\n",
       "      <th>distance</th>\n",
       "      <th>G</th>\n",
       "      <th>J</th>\n",
       "      <th>rave_obs_id</th>\n",
       "      <th>rv</th>\n",
       "      <th>erv</th>\n",
       "      <th>group_id</th>\n",
       "      <th>group_size</th>\n",
       "    </tr>\n",
       "  </thead>\n",
       "  <tbody>\n",
       "    <tr>\n",
       "      <th>0</th>\n",
       "      <td>659</td>\n",
       "      <td>49809491645958528</td>\n",
       "      <td>TYC 1253-388-1</td>\n",
       "      <td>59.457281</td>\n",
       "      <td>18.562195</td>\n",
       "      <td>7.7395</td>\n",
       "      <td>129.949</td>\n",
       "      <td>11.160</td>\n",
       "      <td>9.984</td>\n",
       "      <td>NaN</td>\n",
       "      <td>NaN</td>\n",
       "      <td>NaN</td>\n",
       "      <td>0</td>\n",
       "      <td>151</td>\n",
       "    </tr>\n",
       "    <tr>\n",
       "      <th>1</th>\n",
       "      <td>1559</td>\n",
       "      <td>66939848447027584</td>\n",
       "      <td>TYC 1804-1924-1</td>\n",
       "      <td>57.070387</td>\n",
       "      <td>25.214932</td>\n",
       "      <td>7.6087</td>\n",
       "      <td>132.557</td>\n",
       "      <td>9.066</td>\n",
       "      <td>8.137</td>\n",
       "      <td>20120109_0346p23_140</td>\n",
       "      <td>2.95</td>\n",
       "      <td>1.6</td>\n",
       "      <td>0</td>\n",
       "      <td>151</td>\n",
       "    </tr>\n",
       "    <tr>\n",
       "      <th>2</th>\n",
       "      <td>1904</td>\n",
       "      <td>50905051903831680</td>\n",
       "      <td>HIP 18091</td>\n",
       "      <td>58.003444</td>\n",
       "      <td>19.596690</td>\n",
       "      <td>6.7611</td>\n",
       "      <td>148.752</td>\n",
       "      <td>10.265</td>\n",
       "      <td>9.267</td>\n",
       "      <td>NaN</td>\n",
       "      <td>NaN</td>\n",
       "      <td>NaN</td>\n",
       "      <td>0</td>\n",
       "      <td>151</td>\n",
       "    </tr>\n",
       "    <tr>\n",
       "      <th>3</th>\n",
       "      <td>1929</td>\n",
       "      <td>51452746133437696</td>\n",
       "      <td>HIP 18544</td>\n",
       "      <td>59.507154</td>\n",
       "      <td>20.676596</td>\n",
       "      <td>7.6989</td>\n",
       "      <td>131.839</td>\n",
       "      <td>9.249</td>\n",
       "      <td>8.436</td>\n",
       "      <td>NaN</td>\n",
       "      <td>NaN</td>\n",
       "      <td>NaN</td>\n",
       "      <td>0</td>\n",
       "      <td>151</td>\n",
       "    </tr>\n",
       "    <tr>\n",
       "      <th>4</th>\n",
       "      <td>1944</td>\n",
       "      <td>51619115986889472</td>\n",
       "      <td>TYC 1261-1630-1</td>\n",
       "      <td>58.370320</td>\n",
       "      <td>20.907178</td>\n",
       "      <td>7.4847</td>\n",
       "      <td>134.194</td>\n",
       "      <td>11.553</td>\n",
       "      <td>10.096</td>\n",
       "      <td>NaN</td>\n",
       "      <td>NaN</td>\n",
       "      <td>NaN</td>\n",
       "      <td>0</td>\n",
       "      <td>151</td>\n",
       "    </tr>\n",
       "  </tbody>\n",
       "</table>\n",
       "</div>"
      ],
      "text/plain": [
       "   row_id     tgas_source_id             name         ra        dec  parallax  \\\n",
       "0     659  49809491645958528   TYC 1253-388-1  59.457281  18.562195    7.7395   \n",
       "1    1559  66939848447027584  TYC 1804-1924-1  57.070387  25.214932    7.6087   \n",
       "2    1904  50905051903831680        HIP 18091  58.003444  19.596690    6.7611   \n",
       "3    1929  51452746133437696        HIP 18544  59.507154  20.676596    7.6989   \n",
       "4    1944  51619115986889472  TYC 1261-1630-1  58.370320  20.907178    7.4847   \n",
       "\n",
       "   distance       G       J           rave_obs_id    rv  erv  group_id  \\\n",
       "0   129.949  11.160   9.984                   NaN   NaN  NaN         0   \n",
       "1   132.557   9.066   8.137  20120109_0346p23_140  2.95  1.6         0   \n",
       "2   148.752  10.265   9.267                   NaN   NaN  NaN         0   \n",
       "3   131.839   9.249   8.436                   NaN   NaN  NaN         0   \n",
       "4   134.194  11.553  10.096                   NaN   NaN  NaN         0   \n",
       "\n",
       "   group_size  \n",
       "0         151  \n",
       "1         151  \n",
       "2         151  \n",
       "3         151  \n",
       "4         151  "
      ]
     },
     "execution_count": 11,
     "metadata": {},
     "output_type": "execute_result"
    }
   ],
   "source": [
    "#open and read csv\n",
    "df = pd.read_csv(\"oh_table.csv\")\n",
    "df.head()"
   ]
  },
  {
   "cell_type": "code",
   "execution_count": 12,
   "metadata": {},
   "outputs": [],
   "source": [
    "#assign useful columns to variable\n",
    "G = df[\"G\"].loc[df[\"group_id\"] == 2]\n",
    "J = df[\"J\"].loc[df[\"group_id\"] == 2]\n",
    "D = df[\"distance\"].loc[df[\"group_id\"] == 2]\n",
    "color = G - J"
   ]
  },
  {
   "cell_type": "code",
   "execution_count": 13,
   "metadata": {},
   "outputs": [],
   "source": [
    "#convert G from (G-J) to absolute magnitude\n",
    "abs_mag = G - 5 * np.log10(D) + 5"
   ]
  },
  {
   "cell_type": "code",
   "execution_count": 23,
   "metadata": {},
   "outputs": [
    {
     "data": {
      "image/png": "[encoded data removed]",
      "text/plain": [
       "<Figure size 432x288 with 1 Axes>"
      ]
     },
     "metadata": {},
     "output_type": "display_data"
    }
   ],
   "source": [
    "cm = plt.cm.get_cmap(\"RdYlBu_r\")\n",
    "plt.scatter(color, abs_mag, c = color, cmap = cm)\n",
    "plt.scatter(1.48, 5.12, c = 'darkviolet', marker = '*', s = 200)\n",
    "plt.xlabel('Color (G-J)')\n",
    "plt.ylabel('Absolute Magnitude (C)')\n",
    "plt.hist(df, )\n",
    "plt.gca().invert_yaxis()\n",
    "plt.title('')\n",
    "plt.show()"
   ]
  }
 ],
 "metadata": {
  "kernelspec": {
   "display_name": "Python 3",
   "language": "python",
   "name": "python3"
  },
  "language_info": {
   "codemirror_mode": {
    "name": "ipython",
    "version": 3
   },
   "file_extension": ".py",
   "mimetype": "text/x-python",
   "name": "python",
   "nbconvert_exporter": "python",
   "pygments_lexer": "ipython3",
   "version": "3.6.5"
  }
 },
 "nbformat": 4,
 "nbformat_minor": 2
}
